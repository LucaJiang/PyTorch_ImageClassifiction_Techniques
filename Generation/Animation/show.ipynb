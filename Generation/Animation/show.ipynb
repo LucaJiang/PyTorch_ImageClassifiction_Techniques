{
 "cells": [
  {
   "cell_type": "code",
   "execution_count": null,
   "metadata": {},
   "outputs": [],
   "source": [
    "import torch\n",
    "from DiffusionFreeGuidence.DiffusionCondition import GaussianDiffusionSampler\n",
    "from DiffusionFreeGuidence.ModelCondition import UNet\n",
    "from torchvision.utils import save_image\n",
    "import torchvision.utils as vutils\n",
    "import os\n",
    "import matplotlib.pyplot as plt\n",
    "from matplotlib.animation import FuncAnimation\n",
    "plt.rcParams['animation.html'] = 'jshtml'\n",
    "plt.rcParams[\"figure.figsize\"] = (7.0, 7.0) \n",
    "plt.rcParams['animation.embed_limit'] = 300\n"
   ]
  },
  {
   "cell_type": "code",
   "execution_count": null,
   "metadata": {},
   "outputs": [],
   "source": [
    "modelConfig = {\n",
    "        \"state\": \"eval\", # or eval\n",
    "        \"epoch\": 70,\n",
    "        \"batch_size\": 100,\n",
    "        \"T\": 500,\n",
    "        \"channel\": 128,\n",
    "        \"channel_mult\": [1, 2, 2, 2],\n",
    "        \"num_res_blocks\": 2,\n",
    "        \"dropout\": 0.15,\n",
    "        \"lr\": 1e-4,\n",
    "        \"multiplier\": 2.5,\n",
    "        \"beta_1\": 1e-4,\n",
    "        \"beta_T\": 0.028,\n",
    "        \"img_size\": 32,\n",
    "        \"grad_clip\": 1.,\n",
    "        \"device\": \"cuda:3\",\n",
    "        \"w\": 1.8,\n",
    "        \"save_dir\": \"./CheckpointsCondition/\",\n",
    "        \"training_load_weight\": None,\n",
    "        \"test_load_weight\": \"ckpt_69_.pt\",\n",
    "        \"sampled_dir\": \"./SampledImgs/\",\n",
    "        \"sampledNoisyImgName\": \"NoisyGuidenceImgs.png\",\n",
    "        \"sampledImgName\": \"SampledGuidenceImgs.png\",\n",
    "        \"nrow\": 10,\n",
    "    }\n",
    "\n",
    "device = torch.device(modelConfig[\"device\"])\n",
    "\n",
    "# load model and evaluate\n",
    "with torch.no_grad():\n",
    "    step = int(modelConfig[\"batch_size\"] // 10)\n",
    "    label_list = []\n",
    "    for i in range(10):\n",
    "        label_list += [torch.ones(size=[1]).long() * i] * 10\n",
    "    labels = torch.cat(label_list, dim=0).long().to(device) + 1\n",
    "    model = UNet(T=modelConfig[\"T\"], num_labels=10, ch=modelConfig[\"channel\"], ch_mult=modelConfig[\"channel_mult\"],\n",
    "                     num_res_blocks=modelConfig[\"num_res_blocks\"], dropout=modelConfig[\"dropout\"]).to(device)\n",
    "    ckpt = torch.load(os.path.join(\n",
    "        modelConfig[\"save_dir\"], modelConfig[\"test_load_weight\"]), map_location=device)\n",
    "    model.load_state_dict(ckpt)\n",
    "    sampler = GaussianDiffusionSampler(\n",
    "        model, modelConfig[\"beta_1\"], modelConfig[\"beta_T\"], modelConfig[\"T\"], w=modelConfig[\"w\"]).to(device)\n",
    "\n",
    "    noisyImage = torch.randn(\n",
    "        size=[modelConfig[\"batch_size\"], 3, modelConfig[\"img_size\"], modelConfig[\"img_size\"]], device=device)\n",
    "    saveNoisy = torch.clamp(noisyImage * 0.5 + 0.5, 0, 1)\n",
    "    sampledImg, sampledImg_list= sampler(noisyImage, labels, diffusion_process = True)\n",
    "    sampledImg = sampledImg * 0.5 + 0.5  # [0 ~ 1]   "
   ]
  },
  {
   "cell_type": "code",
   "execution_count": null,
   "metadata": {},
   "outputs": [],
   "source": [
    "img = vutils.make_grid(sampledImg, nrow=10, padding=2, normalize=False, range=None, scale_each=False, pad_value=0)\n",
    "img = img.permute(1, 2, 0).cpu().numpy()\n",
    "plt.imshow(img)\n",
    "plt.axis('off')\n",
    "plt.show()"
   ]
  },
  {
   "cell_type": "code",
   "execution_count": null,
   "metadata": {},
   "outputs": [],
   "source": [
    "import matplotlib.animation as animation\n",
    "img_list = []\n",
    "for img in sampledImg_list:\n",
    "    img = img * 0.5 + 0.5\n",
    "    img = vutils.make_grid(img, nrow=10, padding=2, normalize=False, range=None, scale_each=False, pad_value=0)\n",
    "    img = img.permute(1, 2, 0).cpu().numpy()\n",
    "    img_list.append(img)\n",
    "\n",
    "img_list = [img_list[1]]+[img_list[3]]+img_list[6:]\n",
    "img_list = img_list+img_list[::-1][1:-1]\n",
    "\n",
    "fig, ax = plt.subplots()\n",
    "\n",
    "def init():\n",
    "    ax.set_axis_off()\n",
    "    \n",
    "def update(i):\n",
    "    ax.imshow(img_list[i])\n",
    "    return ax\n",
    "\n",
    "ani = FuncAnimation(fig, init_func = init, func = update,frames=len(img_list), interval=200, repeat_delay=100)\n",
    "plt.close()\n",
    "ani"
   ]
  },
  {
   "cell_type": "code",
   "execution_count": null,
   "metadata": {},
   "outputs": [],
   "source": [
    "# Create a writer instance\n",
    "writer = animation.PillowWriter(fps=5)\n",
    "\n",
    "# Save the animation as a GIF file\n",
    "ani.save('animation.gif', writer=writer)"
   ]
  }
 ],
 "metadata": {
  "kernelspec": {
   "display_name": "research_env",
   "language": "python",
   "name": "python3"
  },
  "language_info": {
   "codemirror_mode": {
    "name": "ipython",
    "version": 3
   },
   "file_extension": ".py",
   "mimetype": "text/x-python",
   "name": "python",
   "nbconvert_exporter": "python",
   "pygments_lexer": "ipython3",
   "version": "3.10.9"
  },
  "orig_nbformat": 4
 },
 "nbformat": 4,
 "nbformat_minor": 2
}
